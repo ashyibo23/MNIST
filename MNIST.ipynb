{
  "nbformat": 4,
  "nbformat_minor": 0,
  "metadata": {
    "colab": {
      "name": "MNIST.ipynb",
      "provenance": []
    },
    "kernelspec": {
      "name": "python3",
      "display_name": "Python 3"
    },
    "language_info": {
      "name": "python"
    },
    "accelerator": "GPU"
  },
  "cells": [
    {
      "cell_type": "code",
      "metadata": {
        "id": "rLzAaAhTcyI6"
      },
      "source": [
        "import keras\n",
        "import tensorflow as tf\n",
        "from keras.datasets import mnist\n",
        "import numpy as np\n"
      ],
      "execution_count": 1,
      "outputs": []
    },
    {
      "cell_type": "code",
      "metadata": {
        "colab": {
          "base_uri": "https://localhost:8080/"
        },
        "id": "DTdu9QvYdWo8",
        "outputId": "69e4a795-5374-47a0-94ec-c5131a725e7f"
      },
      "source": [
        "(x_train, y_train), (x_test, y_test) = mnist.load_data()"
      ],
      "execution_count": 2,
      "outputs": [
        {
          "output_type": "stream",
          "name": "stdout",
          "text": [
            "Downloading data from https://storage.googleapis.com/tensorflow/tf-keras-datasets/mnist.npz\n",
            "11493376/11490434 [==============================] - 0s 0us/step\n",
            "11501568/11490434 [==============================] - 0s 0us/step\n"
          ]
        }
      ]
    },
    {
      "cell_type": "code",
      "metadata": {
        "colab": {
          "base_uri": "https://localhost:8080/"
        },
        "id": "UzaNu9hWyLY4",
        "outputId": "9c3cb563-5c19-44c1-c615-a27d48d38594"
      },
      "source": [
        "print(x_train.shape)\n"
      ],
      "execution_count": null,
      "outputs": [
        {
          "output_type": "stream",
          "name": "stdout",
          "text": [
            "(60000, 28, 28)\n"
          ]
        }
      ]
    },
    {
      "cell_type": "markdown",
      "metadata": {
        "id": "OLIMv5l7ge5g"
      },
      "source": [
        "##Data Processing "
      ]
    },
    {
      "cell_type": "code",
      "metadata": {
        "colab": {
          "base_uri": "https://localhost:8080/",
          "height": 265
        },
        "id": "Cr2f_Ib8dgMX",
        "outputId": "f3a9a1b7-be50-4ce0-e9f9-ab7eaeb5dec4"
      },
      "source": [
        "import matplotlib.pyplot as plt\n",
        "\n",
        "plt.imshow(x_train[0])\n",
        "plt.show()"
      ],
      "execution_count": 3,
      "outputs": [
        {
          "output_type": "display_data",
          "data": {
            "image/png": "[encoded data removed]",
            "text/plain": [
              "<Figure size 432x288 with 1 Axes>"
            ]
          },
          "metadata": {
            "needs_background": "light"
          }
        }
      ]
    },
    {
      "cell_type": "code",
      "metadata": {
        "colab": {
          "base_uri": "https://localhost:8080/",
          "height": 201
        },
        "id": "sNnnZGstjKqf",
        "outputId": "8070b0a9-daf3-46da-e777-4babfe4be57e"
      },
      "source": [
        "plt.figure(figsize = (6,5))\n",
        "plt.subplot(1,2,1)\n",
        "#plt.imshow(x_train[0], cmap=plt.cm.binary)\n",
        "plt.imshow(x_train[0], cmap = 'binary')\n",
        "\n",
        "plt.subplot(122)\n",
        "plt.imshow(x_test[0], cmap = 'gray')\n",
        "plt.show()"
      ],
      "execution_count": 4,
      "outputs": [
        {
          "output_type": "display_data",
          "data": {
            "image/png": "[encoded data removed]",
            "text/plain": [
              "<Figure size 432x360 with 2 Axes>"
            ]
          },
          "metadata": {
            "needs_background": "light"
          }
        }
      ]
    },
    {
      "cell_type": "code",
      "metadata": {
        "colab": {
          "base_uri": "https://localhost:8080/"
        },
        "id": "iGjofOmYjSkh",
        "outputId": "6514e012-4934-445f-f8a2-e65ed927530d"
      },
      "source": [
        "'outputlabel'\n",
        "print(y_train[0])\n",
        "print(y_test[0])"
      ],
      "execution_count": null,
      "outputs": [
        {
          "output_type": "stream",
          "name": "stdout",
          "text": [
            "5\n",
            "7\n"
          ]
        }
      ]
    },
    {
      "cell_type": "code",
      "metadata": {
        "id": "TM4aL7qplNKD"
      },
      "source": [
        "#normalizing data \n",
        "'''\n",
        "x_train = x_train / 255\n",
        "x_test = x_test / 255\n",
        "'''\n",
        "x_train = tf.keras.utils.normalize(x_train, axis=1)\n",
        "x_test = tf.keras.utils.normalize(x_test, axis=1)"
      ],
      "execution_count": 5,
      "outputs": []
    },
    {
      "cell_type": "code",
      "metadata": {
        "colab": {
          "base_uri": "https://localhost:8080/",
          "height": 176
        },
        "id": "T0bXBwGN8qin",
        "outputId": "8da64bc5-4655-470e-930d-379028aa8e6c"
      },
      "source": [
        "plt.figure(figsize=(5,8))\n",
        "plt.subplot(121)\n",
        "plt.imshow(x_train[0])\n",
        "\n",
        "plt.subplot(122)\n",
        "plt.imshow(x_train[0], cmap=plt.cm.binary)\n",
        "plt.show()"
      ],
      "execution_count": 6,
      "outputs": [
        {
          "output_type": "display_data",
          "data": {
            "image/png": "[encoded data removed]",
            "text/plain": [
              "<Figure size 360x576 with 2 Axes>"
            ]
          },
          "metadata": {
            "needs_background": "light"
          }
        }
      ]
    },
    {
      "cell_type": "code",
      "metadata": {
        "colab": {
          "base_uri": "https://localhost:8080/"
        },
        "id": "uljwmzSxBTGg",
        "outputId": "d3eec32e-c26a-49d5-a7a1-cd1570cdd286"
      },
      "source": [
        "print(x_train.shape)"
      ],
      "execution_count": null,
      "outputs": [
        {
          "output_type": "stream",
          "name": "stdout",
          "text": [
            "(60000, 28, 28)\n"
          ]
        }
      ]
    },
    {
      "cell_type": "code",
      "metadata": {
        "colab": {
          "base_uri": "https://localhost:8080/"
        },
        "id": "NvPxz9gBnJyI",
        "outputId": "b2859d25-98ff-40dd-b7f3-065f692fcff7"
      },
      "source": [
        "'''\n",
        "x_train.shape[0] = 60000\n",
        "'''\n",
        "\n",
        "#x_train = x_train.reshape(x_train.shape[0], 28, 28, 1) \n",
        "#x_test = x_test.reshape(x_test.shape[0], 28, 28, 1)\n",
        "\n",
        "x_train = x_train.reshape(-1, 28, 28, 1)\n",
        "x_test = x_test.reshape(-1, 28, 28, 1)\n",
        "\n",
        "x_train = x_train.astype('float32')\n",
        "y_test = y_test.astype('float32')\n",
        "\n",
        "print(x_train.shape)\n",
        "print(x_test.shape)\n",
        "print(x_test.shape)\n",
        "\n"
      ],
      "execution_count": 7,
      "outputs": [
        {
          "output_type": "stream",
          "name": "stdout",
          "text": [
            "(60000, 28, 28, 1)\n",
            "(10000, 28, 28, 1)\n",
            "(10000, 28, 28, 1)\n"
          ]
        }
      ]
    },
    {
      "cell_type": "code",
      "metadata": {
        "colab": {
          "base_uri": "https://localhost:8080/"
        },
        "id": "t_QHq_Pk1dtK",
        "outputId": "49a09d1b-81ff-4a9e-8c66-e04c8d39688d"
      },
      "source": [
        "print(x_train[0].shape)\n",
        "print(x_train[0].ndim)"
      ],
      "execution_count": null,
      "outputs": [
        {
          "output_type": "stream",
          "name": "stdout",
          "text": [
            "(28, 28, 1)\n",
            "3\n"
          ]
        }
      ]
    },
    {
      "cell_type": "code",
      "metadata": {
        "colab": {
          "base_uri": "https://localhost:8080/"
        },
        "id": "ZLv5IvOxp0W6",
        "outputId": "cce2c1d0-b38a-4554-b91a-e2482dd6ce16"
      },
      "source": [
        "classes = np.unique(y_train)\n",
        "n_classes = len(classes)\n",
        "print(classes)\n",
        "print(n_classes)"
      ],
      "execution_count": 8,
      "outputs": [
        {
          "output_type": "stream",
          "name": "stdout",
          "text": [
            "[0 1 2 3 4 5 6 7 8 9]\n",
            "10\n"
          ]
        }
      ]
    },
    {
      "cell_type": "code",
      "metadata": {
        "colab": {
          "base_uri": "https://localhost:8080/"
        },
        "id": "UdbV-L-YqlGF",
        "outputId": "17199076-10f1-40dd-8626-216e95dea59c"
      },
      "source": [
        "from keras.utils import np_utils\n",
        "#Y_train = np_utils.to_categorical(y_train, number_of_classes)\n",
        "#Y_test = np_utils.to_categorical(y_test, number_of_classes)\n",
        "\n",
        "Y_train = np_utils.to_categorical(y_train, n_classes)\n",
        "Y_test = np_utils.to_categorical(y_test, n_classes)\n",
        "\n",
        "print(Y_train[0])"
      ],
      "execution_count": 9,
      "outputs": [
        {
          "output_type": "stream",
          "name": "stdout",
          "text": [
            "[0. 0. 0. 0. 0. 1. 0. 0. 0. 0.]\n"
          ]
        }
      ]
    },
    {
      "cell_type": "code",
      "metadata": {
        "colab": {
          "base_uri": "https://localhost:8080/"
        },
        "id": "VLB1OLB_uvMM",
        "outputId": "5b48d92d-367d-4422-86bb-5051d63c1373"
      },
      "source": [
        "print(y_train[0])"
      ],
      "execution_count": null,
      "outputs": [
        {
          "output_type": "stream",
          "name": "stdout",
          "text": [
            "5\n"
          ]
        }
      ]
    },
    {
      "cell_type": "code",
      "metadata": {
        "colab": {
          "base_uri": "https://localhost:8080/"
        },
        "id": "xPHkMmJgb-x7",
        "outputId": "0c6c0325-6ccf-4548-921b-c48c8f4f8871"
      },
      "source": [
        "!pip install -U tensorflow-addons"
      ],
      "execution_count": null,
      "outputs": [
        {
          "output_type": "stream",
          "name": "stdout",
          "text": [
            "Collecting tensorflow-addons\n",
            "  Downloading tensorflow_addons-0.14.0-cp37-cp37m-manylinux_2_12_x86_64.manylinux2010_x86_64.whl (1.1 MB)\n",
            "\u001b[K     |████████████████████████████████| 1.1 MB 4.0 MB/s \n",
            "\u001b[?25hRequirement already satisfied: typeguard>=2.7 in /usr/local/lib/python3.7/dist-packages (from tensorflow-addons) (2.7.1)\n",
            "Installing collected packages: tensorflow-addons\n",
            "Successfully installed tensorflow-addons-0.14.0\n"
          ]
        }
      ]
    },
    {
      "cell_type": "code",
      "metadata": {
        "colab": {
          "base_uri": "https://localhost:8080/"
        },
        "id": "gnftDFT0YUGS",
        "outputId": "d749803e-69da-4711-f3b0-bda267b51f2b"
      },
      "source": [
        "!pip install keras-layer-normalization\n"
      ],
      "execution_count": null,
      "outputs": [
        {
          "output_type": "stream",
          "name": "stdout",
          "text": [
            "Requirement already satisfied: keras-layer-normalization in /usr/local/lib/python3.7/dist-packages (0.15.0)\n",
            "Requirement already satisfied: numpy in /usr/local/lib/python3.7/dist-packages (from keras-layer-normalization) (1.19.5)\n",
            "Requirement already satisfied: Keras in /usr/local/lib/python3.7/dist-packages (from keras-layer-normalization) (2.6.0)\n"
          ]
        }
      ]
    },
    {
      "cell_type": "code",
      "metadata": {
        "id": "7LKtSYQkvbSH"
      },
      "source": [
        "#convolution\n",
        "#activation \n",
        "#pooling\n",
        "from tensorflow.keras.layers import BatchNormalization\n",
        "\n",
        "from keras.models import Sequential\n",
        "from keras.layers import Dense, Dropout, Activation, Flatten\n",
        "from tensorflow.keras.optimizers import Adam\n",
        "#import BatchNormalization from tensorflow.keras.layers\n",
        "\n",
        "#from keras.layers.normalization import BatchNormalization\n",
        "from keras.utils import np_utils\n",
        "from keras.layers import Conv2D, MaxPooling2D, ZeroPadding2D, GlobalAveragePooling2D\n",
        "from keras.layers.advanced_activations import LeakyReLU \n",
        "from keras.preprocessing.image import ImageDataGenerator\n"
      ],
      "execution_count": 10,
      "outputs": []
    },
    {
      "cell_type": "code",
      "metadata": {
        "id": "ww_dbb3LxUjh"
      },
      "source": [
        "model = Sequential()\n",
        "#model.add(tf.keras.layers.Flatten())\n",
        "#model.add(Conv2D(32, kernel_size = (3,3), activation = 'relu', input_shape = (28, 28, 1)))\n",
        "\n",
        "\n",
        "model.add(Conv2D(32, kernel_size = (3,3), input_shape = (28, 28, 1)))\n",
        "model.add(Activation('relu'))\n",
        "BatchNormalization(axis=-1)\n",
        "model.add(Conv2D(32, (3, 3)))\n",
        "model.add(Activation('relu'))\n",
        "model.add(MaxPooling2D(pool_size=(2,2)))\n",
        "\n",
        "\n",
        "BatchNormalization(axis=-1)\n",
        "model.add(Conv2D(64, (3, 3)))\n",
        "model.add(Activation('relu'))\n",
        "\n",
        "BatchNormalization(axis=-1)\n",
        "model.add(Conv2D(64, (3, 3)))\n",
        "model.add(Activation('relu'))\n",
        "model.add(MaxPooling2D(pool_size=(2,2)))\n",
        "\n",
        "\n",
        "model.add(Flatten())\n",
        "\n",
        "BatchNormalization()\n",
        "model.add(Dense(512))\n",
        "model.add(Activation('relu'))\n",
        "BatchNormalization()\n",
        "model.add(Dropout(0.2))\n",
        "model.add(Dense(10))\n",
        "\n",
        "model.add(Activation('softmax'))"
      ],
      "execution_count": 11,
      "outputs": []
    },
    {
      "cell_type": "code",
      "metadata": {
        "colab": {
          "base_uri": "https://localhost:8080/"
        },
        "id": "TzuamsTsdGk_",
        "outputId": "c14b3407-cf31-42cd-e0ff-42c066675a92"
      },
      "source": [
        "model.summary()"
      ],
      "execution_count": null,
      "outputs": [
        {
          "output_type": "stream",
          "name": "stdout",
          "text": [
            "Model: \"sequential\"\n",
            "_________________________________________________________________\n",
            "Layer (type)                 Output Shape              Param #   \n",
            "=================================================================\n",
            "conv2d (Conv2D)              (None, 26, 26, 32)        320       \n",
            "_________________________________________________________________\n",
            "activation (Activation)      (None, 26, 26, 32)        0         \n",
            "_________________________________________________________________\n",
            "conv2d_1 (Conv2D)            (None, 24, 24, 32)        9248      \n",
            "_________________________________________________________________\n",
            "activation_1 (Activation)    (None, 24, 24, 32)        0         \n",
            "_________________________________________________________________\n",
            "max_pooling2d (MaxPooling2D) (None, 12, 12, 32)        0         \n",
            "_________________________________________________________________\n",
            "conv2d_2 (Conv2D)            (None, 10, 10, 64)        18496     \n",
            "_________________________________________________________________\n",
            "activation_2 (Activation)    (None, 10, 10, 64)        0         \n",
            "_________________________________________________________________\n",
            "conv2d_3 (Conv2D)            (None, 8, 8, 64)          36928     \n",
            "_________________________________________________________________\n",
            "activation_3 (Activation)    (None, 8, 8, 64)          0         \n",
            "_________________________________________________________________\n",
            "max_pooling2d_1 (MaxPooling2 (None, 4, 4, 64)          0         \n",
            "_________________________________________________________________\n",
            "flatten (Flatten)            (None, 1024)              0         \n",
            "_________________________________________________________________\n",
            "dense (Dense)                (None, 512)               524800    \n",
            "_________________________________________________________________\n",
            "activation_4 (Activation)    (None, 512)               0         \n",
            "_________________________________________________________________\n",
            "dropout (Dropout)            (None, 512)               0         \n",
            "_________________________________________________________________\n",
            "dense_1 (Dense)              (None, 10)                5130      \n",
            "_________________________________________________________________\n",
            "activation_5 (Activation)    (None, 10)                0         \n",
            "=================================================================\n",
            "Total params: 594,922\n",
            "Trainable params: 594,922\n",
            "Non-trainable params: 0\n",
            "_________________________________________________________________\n"
          ]
        }
      ]
    },
    {
      "cell_type": "code",
      "metadata": {
        "id": "JmnxOJATekfX"
      },
      "source": [
        "\n",
        "#opt = Adam(lr = 0.001)\n",
        "model.compile(loss='categorical_crossentropy', optimizer=Adam(), metrics=['Accuracy']) "
      ],
      "execution_count": 12,
      "outputs": []
    },
    {
      "cell_type": "code",
      "metadata": {
        "id": "3eFvn0-9e4M9"
      },
      "source": [
        "gen = ImageDataGenerator(rotation_range=8, width_shift_range=0.08, shear_range=0.3,\n",
        "                         height_shift_range=0.08, zoom_range=0.08)\n",
        "\n",
        "test_gen = ImageDataGenerator()"
      ],
      "execution_count": 13,
      "outputs": []
    },
    {
      "cell_type": "code",
      "metadata": {
        "id": "hkG-hRDGhenb"
      },
      "source": [
        "\n",
        "train_generator = gen.flow(x_train, Y_train, batch_size=64)\n",
        "test_generator = test_gen.flow(x_test, Y_test, batch_size=64)"
      ],
      "execution_count": 14,
      "outputs": []
    },
    {
      "cell_type": "code",
      "metadata": {
        "colab": {
          "base_uri": "https://localhost:8080/"
        },
        "id": "ROSEFClUhFXJ",
        "outputId": "86eab814-0ba7-4d39-c8b2-8a5c2c6c319e"
      },
      "source": [
        "history = model.fit(train_generator, steps_per_epoch=60000//64, epochs=5, \n",
        "                    validation_data=test_generator, validation_steps=10000//64)"
      ],
      "execution_count": 15,
      "outputs": [
        {
          "output_type": "stream",
          "name": "stdout",
          "text": [
            "Epoch 1/5\n",
            "937/937 [==============================] - 59s 34ms/step - loss: 0.2313 - Accuracy: 0.9261 - val_loss: 0.0365 - val_Accuracy: 0.9892\n",
            "Epoch 2/5\n",
            "937/937 [==============================] - 31s 33ms/step - loss: 0.0729 - Accuracy: 0.9772 - val_loss: 0.0281 - val_Accuracy: 0.9907\n",
            "Epoch 3/5\n",
            "937/937 [==============================] - 31s 33ms/step - loss: 0.0547 - Accuracy: 0.9838 - val_loss: 0.0207 - val_Accuracy: 0.9932\n",
            "Epoch 4/5\n",
            "937/937 [==============================] - 31s 33ms/step - loss: 0.0448 - Accuracy: 0.9865 - val_loss: 0.0253 - val_Accuracy: 0.9909\n",
            "Epoch 5/5\n",
            "937/937 [==============================] - 31s 33ms/step - loss: 0.0389 - Accuracy: 0.9877 - val_loss: 0.0244 - val_Accuracy: 0.9925\n"
          ]
        }
      ]
    },
    {
      "cell_type": "code",
      "metadata": {
        "colab": {
          "base_uri": "https://localhost:8080/"
        },
        "id": "AIZpUbqhftcm",
        "outputId": "40bda9fa-5b15-4d4a-b4a9-25ff1e0dcecb"
      },
      "source": [
        "val_loss, val_acc = model.evaluate(x_test, Y_test)\n",
        "print(val_loss, val_acc)"
      ],
      "execution_count": 22,
      "outputs": [
        {
          "output_type": "stream",
          "name": "stdout",
          "text": [
            "313/313 [==============================] - 2s 5ms/step - loss: 0.0244 - Accuracy: 0.9925\n",
            "0.024385835975408554 0.9925000071525574\n"
          ]
        }
      ]
    },
    {
      "cell_type": "code",
      "metadata": {
        "colab": {
          "base_uri": "https://localhost:8080/"
        },
        "id": "z4TbBbzkjXQV",
        "outputId": "9256994f-1338-4270-a0e0-13a8c1af2112"
      },
      "source": [
        "model_history = history.history\n",
        "print(model_history.keys())"
      ],
      "execution_count": 23,
      "outputs": [
        {
          "output_type": "stream",
          "name": "stdout",
          "text": [
            "dict_keys(['loss', 'Accuracy', 'val_loss', 'val_Accuracy'])\n"
          ]
        }
      ]
    },
    {
      "cell_type": "code",
      "metadata": {
        "colab": {
          "base_uri": "https://localhost:8080/"
        },
        "id": "EFdrJf-AlZPP",
        "outputId": "4672d519-6023-49e0-c7d7-02d56c1d8227"
      },
      "source": [
        "validation_accuracy = model_history['val_Accuracy']\n",
        "model_loss = model_history['loss']\n",
        "validation_loss = model_history['val_loss']\n",
        "model_accuracy = model_history['Accuracy']\n",
        "epochs = range(len(model_accuracy))\n",
        "\n",
        "print(len(model_accuracy))\n"
      ],
      "execution_count": 24,
      "outputs": [
        {
          "output_type": "stream",
          "name": "stdout",
          "text": [
            "5\n"
          ]
        }
      ]
    },
    {
      "cell_type": "code",
      "metadata": {
        "colab": {
          "base_uri": "https://localhost:8080/",
          "height": 485
        },
        "id": "mPoHotp6mjUN",
        "outputId": "0c3740ba-2d7a-4739-a755-e7c138ba2789"
      },
      "source": [
        "# validation loss and Training loss\n",
        "plt.figure(figsize=(8, 7))\n",
        "plt.subplot(211)\n",
        "plt.plot(epochs, validation_accuracy, 'r', label='validation accuracy')\n",
        "plt.plot(epochs, model_accuracy, 'b', label='Training accuracy')\n",
        "plt.xlabel('Epochs')\n",
        "plt.ylabel('Accuracy')\n",
        "plt.title('Validation Accuracy vs Training Accuracy')\n",
        "plt.legend()\n",
        "\n",
        "#plot of validation loss and Training loss\n",
        "plt.figure(figsize = (8,7))\n",
        "plt.subplot(212)\n",
        "plt.plot(epochs, validation_loss, 'r', label = 'Validation Loss')\n",
        "plt.plot(epochs, model_loss, 'b', label = 'Training Loss')\n",
        "plt.xlabel('Epochs')\n",
        "plt.ylabel('Loss')\n",
        "plt.title('Validation Loss vs Training Loss')\n",
        "plt.legend()\n",
        "\n",
        "plt.show()\n",
        "\n",
        "\n"
      ],
      "execution_count": 25,
      "outputs": [
        {
          "output_type": "display_data",
          "data": {
            "image/png": "[encoded data removed]",
            "text/plain": [
              "<Figure size 576x504 with 1 Axes>"
            ]
          },
          "metadata": {
            "needs_background": "light"
          }
        },
        {
          "output_type": "display_data",
          "data": {
            "image/png": "[encoded data removed]",
            "text/plain": [
              "<Figure size 576x504 with 1 Axes>"
            ]
          },
          "metadata": {
            "needs_background": "light"
          }
        }
      ]
    },
    {
      "cell_type": "code",
      "metadata": {
        "colab": {
          "base_uri": "https://localhost:8080/"
        },
        "id": "PawMh1eppTMD",
        "outputId": "b22011e2-e155-4642-8355-dc26da83e8e8"
      },
      "source": [
        "model.save('mnist.model')"
      ],
      "execution_count": 26,
      "outputs": [
        {
          "output_type": "stream",
          "name": "stdout",
          "text": [
            "INFO:tensorflow:Assets written to: mnist.model/assets\n"
          ]
        }
      ]
    },
    {
      "cell_type": "code",
      "metadata": {
        "id": "siyPbdqpphNK"
      },
      "source": [
        "new_model = tf.keras.models.load_model('mnist.model')\n"
      ],
      "execution_count": 27,
      "outputs": []
    },
    {
      "cell_type": "code",
      "metadata": {
        "id": "lmi08RigplLm"
      },
      "source": [
        "predictions = new_model.predict(x_test)\n"
      ],
      "execution_count": 28,
      "outputs": []
    },
    {
      "cell_type": "code",
      "metadata": {
        "colab": {
          "base_uri": "https://localhost:8080/"
        },
        "id": "wIiNe_XhpoXd",
        "outputId": "5c52728f-878d-4d07-fc53-57d004cfa565"
      },
      "source": [
        "print(predictions)\n"
      ],
      "execution_count": 29,
      "outputs": [
        {
          "output_type": "stream",
          "name": "stdout",
          "text": [
            "[[3.1214665e-07 7.8538314e-08 4.9373098e-06 ... 9.9996841e-01\n",
            "  7.6044552e-07 1.9264242e-05]\n",
            " [1.4049476e-07 4.5001821e-07 9.9999678e-01 ... 1.3286492e-06\n",
            "  8.1301472e-09 8.2969063e-09]\n",
            " [7.3271294e-06 9.9962831e-01 1.6367327e-05 ... 4.3467218e-05\n",
            "  3.3337485e-05 4.9631417e-05]\n",
            " ...\n",
            " [4.5299901e-14 7.8764648e-11 3.4110555e-12 ... 2.3651253e-10\n",
            "  1.5869148e-08 1.6019646e-09]\n",
            " [1.0952870e-07 1.8649314e-10 5.2234106e-10 ... 3.2537344e-11\n",
            "  6.6468609e-05 7.4153810e-08]\n",
            " [4.2732217e-06 3.4949368e-10 5.2433978e-07 ... 3.8733912e-11\n",
            "  1.5052653e-06 6.9244610e-09]]\n"
          ]
        }
      ]
    },
    {
      "cell_type": "code",
      "metadata": {
        "colab": {
          "base_uri": "https://localhost:8080/"
        },
        "id": "IAw7FGxThB2h",
        "outputId": "afcd909a-554a-46c6-9b32-1d1dc743d538"
      },
      "source": [
        "print(predictions[0])"
      ],
      "execution_count": 30,
      "outputs": [
        {
          "output_type": "stream",
          "name": "stdout",
          "text": [
            "[3.12146653e-07 7.85383136e-08 4.93730977e-06 5.88856210e-06\n",
            " 1.09201565e-07 2.98442984e-07 6.76057210e-10 9.99968410e-01\n",
            " 7.60445516e-07 1.92642419e-05]\n"
          ]
        }
      ]
    },
    {
      "cell_type": "code",
      "metadata": {
        "colab": {
          "base_uri": "https://localhost:8080/"
        },
        "id": "h9nAP-UeprbQ",
        "outputId": "84fc7f35-b913-4b97-ab09-7f1a63977a15"
      },
      "source": [
        "print(np.argmax(predictions[0]))\n"
      ],
      "execution_count": null,
      "outputs": [
        {
          "output_type": "stream",
          "name": "stdout",
          "text": [
            "7\n"
          ]
        }
      ]
    },
    {
      "cell_type": "code",
      "metadata": {
        "id": "4aXImhD3sRol"
      },
      "source": [
        "x_test = x_test.reshape(10000, 28, 28)"
      ],
      "execution_count": 31,
      "outputs": []
    },
    {
      "cell_type": "code",
      "metadata": {
        "colab": {
          "base_uri": "https://localhost:8080/",
          "height": 265
        },
        "id": "QDFjRzJCp0zu",
        "outputId": "ed4ec3b8-38dd-42f8-a065-a4963ff6dc8d"
      },
      "source": [
        "plt.imshow(x_test[0], cmap='gray')\n",
        "plt.show()"
      ],
      "execution_count": 32,
      "outputs": [
        {
          "output_type": "display_data",
          "data": {
            "image/png": "[encoded data removed]",
            "text/plain": [
              "<Figure size 432x288 with 1 Axes>"
            ]
          },
          "metadata": {
            "needs_background": "light"
          }
        }
      ]
    }
  ]
}